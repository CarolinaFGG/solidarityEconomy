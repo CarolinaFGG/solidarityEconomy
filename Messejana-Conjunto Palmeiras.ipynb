{
 "cells": [
  {
   "cell_type": "code",
   "execution_count": 113,
   "id": "872f3ae9",
   "metadata": {
    "scrolled": true
   },
   "outputs": [
    {
     "name": "stdout",
     "output_type": "stream",
     "text": [
      "WARNING *** OLE2 inconsistency: SSCS size is 0 but SSAT size is non-zero\n"
     ]
    }
   ],
   "source": [
    "import pandas as pd \n",
    "from simpledbf import Dbf5\n",
    "import chardet\n",
    "\n",
    "class PathDataSets:\n",
    "    url = \"C:/Users/carol/Downloads/solidarityEconomy/dataSets/\"\n",
    "    setores_91 = url + \"setores_ceara_1991/\"\n",
    "    setores_00 = url + \"setores_ceara_2000/\"\n",
    "    setores_10 = url + \"setores_ceara_2010/\"\n",
    "    \n",
    "file91 = PathDataSets.setores_91 + \"desc_setores_91_messejana_finished.csv\"\n",
    "censo91 = pd.read_csv(file91, encoding = \"Windows-1252\", sep = \";\")\n",
    "file00 = PathDataSets.setores_00 + \"raw_data/descricao_setores.xls\"\n",
    "censo00 = pd.read_excel(file00)\n",
    "\n",
    "fileBasic00 = PathDataSets.setores_00 + \"raw_data/Basico_CE.xls\"\n",
    "censoBasic00 = pd.read_excel(fileBasic00)\n"
   ]
  },
  {
   "cell_type": "code",
   "execution_count": null,
   "id": "8e2a74de",
   "metadata": {},
   "outputs": [],
   "source": []
  },
  {
   "cell_type": "code",
   "execution_count": 141,
   "id": "59ff8a23",
   "metadata": {},
   "outputs": [],
   "source": [
    "def setSectorsByStreet(censo):\n",
    "    logradouros = \"Rua Castro Alves, Rua Silvinha Téles, Rua Sidney Mesquita, Rua Iracema, Travessa Nova, Rua Edilson Candéa, Travessa Iracema, Rua Dalton Melo, Rua José Linhares, Rua Franklin Távora, Travessa José Linhares, Rua Amadeu Bueno, Rua Campo Verde, Avenida Castelo de Castro, Avenida Castelo de Castro, Rua Canguru, Travessa Canguru, Travessa Sara Saraiva Rocha, Rua Dourado, Rua Fernão Dias, Rua Doutor Codes Sandoval, Rua Olavo Bilac, Rua Maguari, Rua Rui Barbosa, Rua Babaçu, Rua Edmilson Nogueira, Rua Saquarema, Rua Raquel de Queiroz, Rua Avaré, Rua Carneiro Alves, Rua Modesta, Travessa Gurupi, Rua Antônio Ivan, Rua Diadema, Rua Missionário Sílvio, Rua Salmão, Rua São Pedro, Avenida Central, Rua Zé do Crato, Rua do Pensamento, Rua Alves Maia, Rua Serra Azul, Rua Elza Pereira, Rua Alcides Gerardi, Rua Osvaldo Cruz, Rua Evaldo Braga, Rua Álvaro Dias, Rua Dalva de Oliveira, Rua Primeiro de Janeiro, Rua Ângela Diniz, Rua Trinta de Dezembro, Rua Oscarito, Rua José dos Reis, Rua Maiza, Travessa Maiza, Rua Ternura, Rua São Francisco, Rua Cantareira, Rua São Luís, Rua São Raimundo, Rua Chico Mendes, Travessa São Raimundo, Rua São Sebastião, Rua Coqueiro, Rua Benedito Alves, Rua Santo Antônio, Rua Marquês de Sapucaí, Travessa Samia, Rua Ismael Silva, Travessa Eudes França, Travessa Ismael Silva, Rua da Consolação, Rua Olímpio Ribeiro, Rua Santos Dias, Rua Campinense, Rua Margarida Alves, Rua Caxambu, Rua Nossa Senhora da Conceição, Travessa Espirito Santo, Rua Santa Rosa, Vila Santa Rosa, Travessa do Canal, Rua da Alegria, Vila do Real, Rua Santa Helena, Rua Água da Prata, Rua Catolé, Rua Cabo Verde, Rua Codó, Travessa Jorge Veira, Rua Valparaíso, Rua Tereza Bernardes, Rua Cantinho Verde, Rua Mário Biank, Rua Itaguatinga, Travessa Jaborandi, Rua Nossa Senhora do Consolo, Rua Luz Celeste, Rua Santa Rosa do Palmeira, Rua Santa Rita do Palmeira, Rua São José do Palmeira, Rua Santa Lúcia do Palmeira, Rua Zé Trindade, Rua Isabela Moreira\"\n",
    "    logradouros = logradouros.upper()\n",
    "    listLogradouros = logradouros.split(\", \")\n",
    "    addOrString = \"|\".join(listLogradouros)\n",
    "    \n",
    "    try:\n",
    "        if \"V11\" in censo.columns.values:  \n",
    "            censo[\"listLogradouros\"] = censo.V11.str.contains(addOrString)\n",
    "            return censo.query(\"listLogradouros == True\")\n",
    "        \n",
    "        elif \"descricao\" in censo00.columns.values:\n",
    "            censo[\"listLogradouros\"] = censo.descricao.str.contains(addOrString)\n",
    "            return censo.query(\"listLogradouros == True\")\n",
    "    except:\n",
    "        print(\"Parametro não possui os requisitos de pré-processamento\")\n",
    "        return 0\n",
    "\n",
    "    \n",
    "\n",
    "df_setores91 = setSectorsByStreet(censo91)\n",
    "df_setores00 = setSectorsByStreet(censo00)\n"
   ]
  },
  {
   "cell_type": "code",
   "execution_count": 184,
   "id": "b69d3362",
   "metadata": {},
   "outputs": [
    {
     "data": {
      "text/plain": [
       "[230440065110206,\n",
       " 230440065110207,\n",
       " 230440065110210,\n",
       " 230440065110211,\n",
       " 230440065110212,\n",
       " 230440065110216,\n",
       " 230440065110217,\n",
       " 230440065110219,\n",
       " 230440065110220,\n",
       " 230440065110221,\n",
       " 230440065110227,\n",
       " 230440065110234,\n",
       " 230440065110235,\n",
       " 230440065110236,\n",
       " 230440065110237,\n",
       " 230440065110238,\n",
       " 230440065110239,\n",
       " 230440065110240,\n",
       " 230440065110241,\n",
       " 230440065110242,\n",
       " 230440065110243,\n",
       " 230440065110244,\n",
       " 230440065110245,\n",
       " 230440065110249,\n",
       " 230440065110250,\n",
       " 230440065110251,\n",
       " 230440065110252,\n",
       " 230440065110261,\n",
       " 230440065110262,\n",
       " 230440065110263,\n",
       " 230440065110264,\n",
       " 230440065110265]"
      ]
     },
     "execution_count": 184,
     "metadata": {},
     "output_type": "execute_result"
    }
   ],
   "source": [
    "setores = df_setores00['Cod_setor']\n",
    "setores = list(setores)\n",
    "teste = list(map(lambda x: str(x), setores))\n",
    "teste = \"|\".join(teste)\n",
    "\n",
    "\n",
    "censoBasic00[\"listLogradouros\"] = censoBasic00.Cod_setor.astype(str).str.contains(teste)\n",
    "censoBasic00 = censoBasic00.query(\"listLogradouros == True\")\n",
    "\n",
    "setor = list(censoBasic00[censoBasic00['Nome_do_bairro'] == \"Jangurussu\"]['Cod_setor'])\n",
    "setor\n"
   ]
  },
  {
   "cell_type": "raw",
   "id": "fe1fb8ae",
   "metadata": {},
   "source": [
    "listBoolLogradouros = []\n",
    "\n",
    "for v11 in censo91.V11:\n",
    "    for rua in listLogradouros:\n",
    "        if rua in v11:\n",
    "            listBoolLogradouros.append(True)\n",
    "            break\n",
    "        if rua == 'RUA ISABELA MOREIRA':\n",
    "            listBoolLogradouros.append(False)"
   ]
  },
  {
   "cell_type": "code",
   "execution_count": 10,
   "id": "d2554ac4",
   "metadata": {},
   "outputs": [],
   "source": [
    "censo91[\"listLogradouro\"] = listBoolLogradouros\n"
   ]
  },
  {
   "cell_type": "code",
   "execution_count": null,
   "id": "f6e577b8",
   "metadata": {},
   "outputs": [],
   "source": [
    "censo91[censo91[\"listLogradouro\"] == True]\n"
   ]
  },
  {
   "cell_type": "code",
   "execution_count": null,
   "id": "de33769c",
   "metadata": {},
   "outputs": [],
   "source": []
  },
  {
   "cell_type": "code",
   "execution_count": null,
   "id": "32b3e363",
   "metadata": {},
   "outputs": [],
   "source": []
  },
  {
   "cell_type": "code",
   "execution_count": 194,
   "id": "e586e933",
   "metadata": {},
   "outputs": [],
   "source": []
  },
  {
   "cell_type": "code",
   "execution_count": 211,
   "id": "ac41adf2",
   "metadata": {},
   "outputs": [],
   "source": []
  },
  {
   "cell_type": "code",
   "execution_count": 272,
   "id": "6a6c0d67",
   "metadata": {},
   "outputs": [],
   "source": []
  },
  {
   "cell_type": "code",
   "execution_count": null,
   "id": "f83e427a",
   "metadata": {},
   "outputs": [],
   "source": []
  },
  {
   "cell_type": "code",
   "execution_count": null,
   "id": "006a56bc",
   "metadata": {},
   "outputs": [],
   "source": []
  }
 ],
 "metadata": {
  "kernelspec": {
   "display_name": "Python 3 (ipykernel)",
   "language": "python",
   "name": "python3"
  },
  "language_info": {
   "codemirror_mode": {
    "name": "ipython",
    "version": 3
   },
   "file_extension": ".py",
   "mimetype": "text/x-python",
   "name": "python",
   "nbconvert_exporter": "python",
   "pygments_lexer": "ipython3",
   "version": "3.9.12"
  }
 },
 "nbformat": 4,
 "nbformat_minor": 5
}
