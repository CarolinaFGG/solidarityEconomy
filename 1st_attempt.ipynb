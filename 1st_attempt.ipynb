{
 "cells": [
  {
   "cell_type": "code",
   "execution_count": 81,
   "id": "872f3ae9",
   "metadata": {
    "scrolled": true
   },
   "outputs": [
    {
     "data": {
      "text/html": [
       "<div>\n",
       "<style scoped>\n",
       "    .dataframe tbody tr th:only-of-type {\n",
       "        vertical-align: middle;\n",
       "    }\n",
       "\n",
       "    .dataframe tbody tr th {\n",
       "        vertical-align: top;\n",
       "    }\n",
       "\n",
       "    .dataframe thead th {\n",
       "        text-align: right;\n",
       "    }\n",
       "</style>\n",
       "<table border=\"1\" class=\"dataframe\">\n",
       "  <thead>\n",
       "    <tr style=\"text-align: right;\">\n",
       "      <th></th>\n",
       "      <th>0</th>\n",
       "    </tr>\n",
       "  </thead>\n",
       "  <tbody>\n",
       "    <tr>\n",
       "      <th>0</th>\n",
       "      <td>V1;V2;V3;V4;V5;V6;V7;V8;V9;V10</td>\n",
       "    </tr>\n",
       "    <tr>\n",
       "      <th>1</th>\n",
       "      <td>23;440;FORTALEZA;65;MESSEJANA;9;50;2;1;\": DO P...</td>\n",
       "    </tr>\n",
       "    <tr>\n",
       "      <th>2</th>\n",
       "      <td>23;440;FORTALEZA;65;MESSEJANA;9;50;2;2;\"DA OLI...</td>\n",
       "    </tr>\n",
       "    <tr>\n",
       "      <th>3</th>\n",
       "      <td>23;440;FORTALEZA;65;MESSEJANA;9;50;2;3;\"RUA ES...</td>\n",
       "    </tr>\n",
       "    <tr>\n",
       "      <th>4</th>\n",
       "      <td>23;440;FORTALEZA;65;MESSEJANA;9;51;2;1;\": DO P...</td>\n",
       "    </tr>\n",
       "    <tr>\n",
       "      <th>...</th>\n",
       "      <td>...</td>\n",
       "    </tr>\n",
       "    <tr>\n",
       "      <th>756</th>\n",
       "      <td>23;440;FORTALEZA;65;MESSEJANA;11;220;2;5;\"DA \"...</td>\n",
       "    </tr>\n",
       "    <tr>\n",
       "      <th>757</th>\n",
       "      <td>23;440;FORTALEZA;65;MESSEJANA;11;221;2;1;\": DO...</td>\n",
       "    </tr>\n",
       "    <tr>\n",
       "      <th>758</th>\n",
       "      <td>23;440;FORTALEZA;65;MESSEJANA;11;221;2;2;\" \"\"R...</td>\n",
       "    </tr>\n",
       "    <tr>\n",
       "      <th>759</th>\n",
       "      <td>23;440;FORTALEZA;65;MESSEJANA;11;222;2;1;\": DO...</td>\n",
       "    </tr>\n",
       "    <tr>\n",
       "      <th>760</th>\n",
       "      <td>23;440;FORTALEZA;65;MESSEJANA;11;222;2;2;\"CALH...</td>\n",
       "    </tr>\n",
       "  </tbody>\n",
       "</table>\n",
       "<p>761 rows × 1 columns</p>\n",
       "</div>"
      ],
      "text/plain": [
       "                                                     0\n",
       "0                       V1;V2;V3;V4;V5;V6;V7;V8;V9;V10\n",
       "1    23;440;FORTALEZA;65;MESSEJANA;9;50;2;1;\": DO P...\n",
       "2    23;440;FORTALEZA;65;MESSEJANA;9;50;2;2;\"DA OLI...\n",
       "3    23;440;FORTALEZA;65;MESSEJANA;9;50;2;3;\"RUA ES...\n",
       "4    23;440;FORTALEZA;65;MESSEJANA;9;51;2;1;\": DO P...\n",
       "..                                                 ...\n",
       "756  23;440;FORTALEZA;65;MESSEJANA;11;220;2;5;\"DA \"...\n",
       "757  23;440;FORTALEZA;65;MESSEJANA;11;221;2;1;\": DO...\n",
       "758  23;440;FORTALEZA;65;MESSEJANA;11;221;2;2;\" \"\"R...\n",
       "759  23;440;FORTALEZA;65;MESSEJANA;11;222;2;1;\": DO...\n",
       "760  23;440;FORTALEZA;65;MESSEJANA;11;222;2;2;\"CALH...\n",
       "\n",
       "[761 rows x 1 columns]"
      ]
     },
     "execution_count": 81,
     "metadata": {},
     "output_type": "execute_result"
    }
   ],
   "source": [
    "import pandas as pd \n",
    "from simpledbf import Dbf5\n",
    "import chardet\n",
    "\n",
    "url = \"C:/Users/carol/Downloads/solidarityEconomy/\"\n",
    "file = url + \"desc_setores_91_messejana_sem_virgula.csv\"\n",
    "teste = pd.read_csv(file, encoding = \"Windows-1252\", header=None)\n",
    "teste"
   ]
  },
  {
   "cell_type": "code",
   "execution_count": null,
   "id": "dffc6750",
   "metadata": {},
   "outputs": [],
   "source": []
  },
  {
   "cell_type": "code",
   "execution_count": null,
   "id": "d2554ac4",
   "metadata": {},
   "outputs": [],
   "source": []
  }
 ],
 "metadata": {
  "kernelspec": {
   "display_name": "Python 3 (ipykernel)",
   "language": "python",
   "name": "python3"
  },
  "language_info": {
   "codemirror_mode": {
    "name": "ipython",
    "version": 3
   },
   "file_extension": ".py",
   "mimetype": "text/x-python",
   "name": "python",
   "nbconvert_exporter": "python",
   "pygments_lexer": "ipython3",
   "version": "3.9.12"
  }
 },
 "nbformat": 4,
 "nbformat_minor": 5
}
