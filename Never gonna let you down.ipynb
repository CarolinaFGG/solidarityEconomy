{
 "cells": [
  {
   "cell_type": "code",
   "execution_count": 37,
   "id": "0137d8ae",
   "metadata": {},
   "outputs": [],
   "source": [
    "import pandas as pd \n",
    "\n",
    "from simpledbf import Dbf5\n",
    "import chardet\n",
    "\n",
    "class PathDataSets:\n",
    "    url = \"C:/Users/carol/Downloads/solidarityEconomy/dataSets/\"\n",
    "    setores_91 = url + \"setores_ceara_1991/\"\n",
    "    setores_00 = url + \"setores_ceara_2000/\"\n",
    "    setores_10 = url + \"setores_ceara_2010/\"\n",
    "    bairro = url + \"logradouros_ce.csv\"\n",
    "    \n",
    "file = PathDataSets.setores_91 + \"desc_setores_91_messejana_finished.csv\"\n",
    "\n",
    "censo91 = pd.read_csv(file, encoding = \"Windows-1252\", sep = \";\")"
   ]
  },
  {
   "cell_type": "code",
   "execution_count": 89,
   "id": "cc57b04d",
   "metadata": {},
   "outputs": [
    {
     "data": {
      "text/html": [
       "<div>\n",
       "<style scoped>\n",
       "    .dataframe tbody tr th:only-of-type {\n",
       "        vertical-align: middle;\n",
       "    }\n",
       "\n",
       "    .dataframe tbody tr th {\n",
       "        vertical-align: top;\n",
       "    }\n",
       "\n",
       "    .dataframe thead th {\n",
       "        text-align: right;\n",
       "    }\n",
       "</style>\n",
       "<table border=\"1\" class=\"dataframe\">\n",
       "  <thead>\n",
       "    <tr style=\"text-align: right;\">\n",
       "      <th></th>\n",
       "      <th>bairro</th>\n",
       "      <th>logradouro</th>\n",
       "      <th>logradouros_t</th>\n",
       "    </tr>\n",
       "  </thead>\n",
       "  <tbody>\n",
       "    <tr>\n",
       "      <th>0</th>\n",
       "      <td>conjunto_palmeiras</td>\n",
       "      <td>Rua Castro Alves, Rua Silvinha Téles, Rua Sidney Mesquita, Rua Iracema, Travessa Nova, Rua Edilson Candéa, Travessa Iracema, Rua Dalton Melo, Rua José Linhares, Rua Franklin Távora, Travessa José Linhares, Rua Amadeu Bueno, Rua Campo Verde, Avenida Castelo de Castro, Avenida Castelo de Castro, Rua Canguru, Travessa Canguru, Travessa Sara Saraiva Rocha, Rua Dourado, Rua Fernão Dias, Rua Doutor Codes Sandoval, Rua Olavo Bilac, Rua Maguari, Rua Rui Barbosa, Rua Babaçu, Rua Edmilson Nogueira, Rua Saquarema, Rua Raquel de Queiroz, Rua Avaré, Rua Carneiro Alves, Rua Modesta, Travessa Gurupi, Rua Antônio Ivan, Rua Diadema, Rua Missionário Sílvio, Rua Salmão, Rua São Pedro, Avenida Central, Rua Zé do Crato, Rua do Pensamento, Rua Alves Maia, Rua Serra Azul, Rua Elza Pereira, Rua Alcides Gerardi, Rua Osvaldo Cruz, Rua Evaldo Braga, Rua Álvaro Dias, Rua Dalva de Oliveira, Rua Primeiro de Janeiro, Rua Ângela Diniz, Rua Trinta de Dezembro, Rua Oscarito, Rua José dos Reis, Rua Maiza, Travessa Maiza, Rua Ternura, Rua São Francisco, Rua Cantareira, Rua São Luís, Rua São Raimundo, Rua Chico Mendes, Travessa São Raimundo, Rua São Sebastião, Rua Coqueiro, Rua Benedito Alves, Rua Santo Antônio, Rua Marquês de Sapucaí, Travessa Samia, Rua Ismael Silva, Travessa Eudes França, Travessa Ismael Silva, Rua da Consolação, Rua Olímpio Ribeiro, Rua Santos Dias, Rua Campinense, Rua Margarida Alves, Rua Caxambu, Rua Nossa Senhora da Conceição, Travessa Espirito Santo, Rua Santa Rosa, Vila Santa Rosa, Travessa do Canal, Rua da Alegria, Vila do Real, Rua Santa Helena, Rua Água da Prata, Rua Catolé, Rua Cabo Verde, Rua Codó, Travessa Jorge Veira, Rua Valparaíso, Rua Tereza Bernardes, Rua Cantinho Verde, Rua Mário Biank, Rua Itaguatinga, Travessa Jaborandi, Rua Nossa Senhora do Consolo, Rua Luz Celeste, Rua Santa Rosa do Palmeira, Rua Santa Rita do Palmeira, Rua São José do Palmeira, Rua Santa Lúcia do Palmeira, Rua Zé Trindade, Rua Isabela Moreira</td>\n",
       "      <td>RUA CASTRO ALVES, RUA SILVINHA TÉLES, RUA SIDNEY MESQUITA, RUA IRACEMA, TRAVESSA NOVA, RUA EDILSON CANDÉA, TRAVESSA IRACEMA, RUA DALTON MELO, RUA JOSÉ LINHARES, RUA FRANKLIN TÁVORA, TRAVESSA JOSÉ LINHARES, RUA AMADEU BUENO, RUA CAMPO VERDE, AVENIDA CASTELO DE CASTRO, AVENIDA CASTELO DE CASTRO, RUA CANGURU, TRAVESSA CANGURU, TRAVESSA SARA SARAIVA ROCHA, RUA DOURADO, RUA FERNÃO DIAS, RUA DOUTOR CODES SANDOVAL, RUA OLAVO BILAC, RUA MAGUARI, RUA RUI BARBOSA, RUA BABAÇU, RUA EDMILSON NOGUEIRA, RUA SAQUAREMA, RUA RAQUEL DE QUEIROZ, RUA AVARÉ, RUA CARNEIRO ALVES, RUA MODESTA, TRAVESSA GURUPI, RUA ANTÔNIO IVAN, RUA DIADEMA, RUA MISSIONÁRIO SÍLVIO, RUA SALMÃO, RUA SÃO PEDRO, AVENIDA CENTRAL, RUA ZÉ DO CRATO, RUA DO PENSAMENTO, RUA ALVES MAIA, RUA SERRA AZUL, RUA ELZA PEREIRA, RUA ALCIDES GERARDI, RUA OSVALDO CRUZ, RUA EVALDO BRAGA, RUA ÁLVARO DIAS, RUA DALVA DE OLIVEIRA, RUA PRIMEIRO DE JANEIRO, RUA ÂNGELA DINIZ, RUA TRINTA DE DEZEMBRO, RUA OSCARITO, RUA JOSÉ DOS REIS, RUA MAIZA, TRAVESSA MAIZA, RUA TERNURA, RUA SÃO FRANCISCO, RUA CANTAREIRA, RUA SÃO LUÍS, RUA SÃO RAIMUNDO, RUA CHICO MENDES, TRAVESSA SÃO RAIMUNDO, RUA SÃO SEBASTIÃO, RUA COQUEIRO, RUA BENEDITO ALVES, RUA SANTO ANTÔNIO, RUA MARQUÊS DE SAPUCAÍ, TRAVESSA SAMIA, RUA ISMAEL SILVA, TRAVESSA EUDES FRANÇA, TRAVESSA ISMAEL SILVA, RUA DA CONSOLAÇÃO, RUA OLÍMPIO RIBEIRO, RUA SANTOS DIAS, RUA CAMPINENSE, RUA MARGARIDA ALVES, RUA CAXAMBU, RUA NOSSA SENHORA DA CONCEIÇÃO, TRAVESSA ESPIRITO SANTO, RUA SANTA ROSA, VILA SANTA ROSA, TRAVESSA DO CANAL, RUA DA ALEGRIA, VILA DO REAL, RUA SANTA HELENA, RUA ÁGUA DA PRATA, RUA CATOLÉ, RUA CABO VERDE, RUA CODÓ, TRAVESSA JORGE VEIRA, RUA VALPARAÍSO, RUA TEREZA BERNARDES, RUA CANTINHO VERDE, RUA MÁRIO BIANK, RUA ITAGUATINGA, TRAVESSA JABORANDI, RUA NOSSA SENHORA DO CONSOLO, RUA LUZ CELESTE, RUA SANTA ROSA DO PALMEIRA, RUA SANTA RITA DO PALMEIRA, RUA SÃO JOSÉ DO PALMEIRA, RUA SANTA LÚCIA DO PALMEIRA, RUA ZÉ TRINDADE, RUA ISABELA MOREIRA</td>\n",
       "    </tr>\n",
       "  </tbody>\n",
       "</table>\n",
       "</div>"
      ],
      "text/plain": [
       "               bairro  \\\n",
       "0  conjunto_palmeiras   \n",
       "\n",
       "                                                                                                                                                                                                                                                                                                                                                                                                                                                                                                                                                                                                                                                                                                                                                                                                                                                                                                                                                                                                                                                                                                                                                                                                                                                                                                                                                                                                                                                                                                                                                                                                                                                                                                                                                                                                                                                                                                                                                                                                                     logradouro  \\\n",
       "0  Rua Castro Alves, Rua Silvinha Téles, Rua Sidney Mesquita, Rua Iracema, Travessa Nova, Rua Edilson Candéa, Travessa Iracema, Rua Dalton Melo, Rua José Linhares, Rua Franklin Távora, Travessa José Linhares, Rua Amadeu Bueno, Rua Campo Verde, Avenida Castelo de Castro, Avenida Castelo de Castro, Rua Canguru, Travessa Canguru, Travessa Sara Saraiva Rocha, Rua Dourado, Rua Fernão Dias, Rua Doutor Codes Sandoval, Rua Olavo Bilac, Rua Maguari, Rua Rui Barbosa, Rua Babaçu, Rua Edmilson Nogueira, Rua Saquarema, Rua Raquel de Queiroz, Rua Avaré, Rua Carneiro Alves, Rua Modesta, Travessa Gurupi, Rua Antônio Ivan, Rua Diadema, Rua Missionário Sílvio, Rua Salmão, Rua São Pedro, Avenida Central, Rua Zé do Crato, Rua do Pensamento, Rua Alves Maia, Rua Serra Azul, Rua Elza Pereira, Rua Alcides Gerardi, Rua Osvaldo Cruz, Rua Evaldo Braga, Rua Álvaro Dias, Rua Dalva de Oliveira, Rua Primeiro de Janeiro, Rua Ângela Diniz, Rua Trinta de Dezembro, Rua Oscarito, Rua José dos Reis, Rua Maiza, Travessa Maiza, Rua Ternura, Rua São Francisco, Rua Cantareira, Rua São Luís, Rua São Raimundo, Rua Chico Mendes, Travessa São Raimundo, Rua São Sebastião, Rua Coqueiro, Rua Benedito Alves, Rua Santo Antônio, Rua Marquês de Sapucaí, Travessa Samia, Rua Ismael Silva, Travessa Eudes França, Travessa Ismael Silva, Rua da Consolação, Rua Olímpio Ribeiro, Rua Santos Dias, Rua Campinense, Rua Margarida Alves, Rua Caxambu, Rua Nossa Senhora da Conceição, Travessa Espirito Santo, Rua Santa Rosa, Vila Santa Rosa, Travessa do Canal, Rua da Alegria, Vila do Real, Rua Santa Helena, Rua Água da Prata, Rua Catolé, Rua Cabo Verde, Rua Codó, Travessa Jorge Veira, Rua Valparaíso, Rua Tereza Bernardes, Rua Cantinho Verde, Rua Mário Biank, Rua Itaguatinga, Travessa Jaborandi, Rua Nossa Senhora do Consolo, Rua Luz Celeste, Rua Santa Rosa do Palmeira, Rua Santa Rita do Palmeira, Rua São José do Palmeira, Rua Santa Lúcia do Palmeira, Rua Zé Trindade, Rua Isabela Moreira   \n",
       "\n",
       "                                                                                                                                                                                                                                                                                                                                                                                                                                                                                                                                                                                                                                                                                                                                                                                                                                                                                                                                                                                                                                                                                                                                                                                                                                                                                                                                                                                                                                                                                                                                                                                                                                                                                                                                                                                                                                                                                                                                                                                                                  logradouros_t  \n",
       "0  RUA CASTRO ALVES, RUA SILVINHA TÉLES, RUA SIDNEY MESQUITA, RUA IRACEMA, TRAVESSA NOVA, RUA EDILSON CANDÉA, TRAVESSA IRACEMA, RUA DALTON MELO, RUA JOSÉ LINHARES, RUA FRANKLIN TÁVORA, TRAVESSA JOSÉ LINHARES, RUA AMADEU BUENO, RUA CAMPO VERDE, AVENIDA CASTELO DE CASTRO, AVENIDA CASTELO DE CASTRO, RUA CANGURU, TRAVESSA CANGURU, TRAVESSA SARA SARAIVA ROCHA, RUA DOURADO, RUA FERNÃO DIAS, RUA DOUTOR CODES SANDOVAL, RUA OLAVO BILAC, RUA MAGUARI, RUA RUI BARBOSA, RUA BABAÇU, RUA EDMILSON NOGUEIRA, RUA SAQUAREMA, RUA RAQUEL DE QUEIROZ, RUA AVARÉ, RUA CARNEIRO ALVES, RUA MODESTA, TRAVESSA GURUPI, RUA ANTÔNIO IVAN, RUA DIADEMA, RUA MISSIONÁRIO SÍLVIO, RUA SALMÃO, RUA SÃO PEDRO, AVENIDA CENTRAL, RUA ZÉ DO CRATO, RUA DO PENSAMENTO, RUA ALVES MAIA, RUA SERRA AZUL, RUA ELZA PEREIRA, RUA ALCIDES GERARDI, RUA OSVALDO CRUZ, RUA EVALDO BRAGA, RUA ÁLVARO DIAS, RUA DALVA DE OLIVEIRA, RUA PRIMEIRO DE JANEIRO, RUA ÂNGELA DINIZ, RUA TRINTA DE DEZEMBRO, RUA OSCARITO, RUA JOSÉ DOS REIS, RUA MAIZA, TRAVESSA MAIZA, RUA TERNURA, RUA SÃO FRANCISCO, RUA CANTAREIRA, RUA SÃO LUÍS, RUA SÃO RAIMUNDO, RUA CHICO MENDES, TRAVESSA SÃO RAIMUNDO, RUA SÃO SEBASTIÃO, RUA COQUEIRO, RUA BENEDITO ALVES, RUA SANTO ANTÔNIO, RUA MARQUÊS DE SAPUCAÍ, TRAVESSA SAMIA, RUA ISMAEL SILVA, TRAVESSA EUDES FRANÇA, TRAVESSA ISMAEL SILVA, RUA DA CONSOLAÇÃO, RUA OLÍMPIO RIBEIRO, RUA SANTOS DIAS, RUA CAMPINENSE, RUA MARGARIDA ALVES, RUA CAXAMBU, RUA NOSSA SENHORA DA CONCEIÇÃO, TRAVESSA ESPIRITO SANTO, RUA SANTA ROSA, VILA SANTA ROSA, TRAVESSA DO CANAL, RUA DA ALEGRIA, VILA DO REAL, RUA SANTA HELENA, RUA ÁGUA DA PRATA, RUA CATOLÉ, RUA CABO VERDE, RUA CODÓ, TRAVESSA JORGE VEIRA, RUA VALPARAÍSO, RUA TEREZA BERNARDES, RUA CANTINHO VERDE, RUA MÁRIO BIANK, RUA ITAGUATINGA, TRAVESSA JABORANDI, RUA NOSSA SENHORA DO CONSOLO, RUA LUZ CELESTE, RUA SANTA ROSA DO PALMEIRA, RUA SANTA RITA DO PALMEIRA, RUA SÃO JOSÉ DO PALMEIRA, RUA SANTA LÚCIA DO PALMEIRA, RUA ZÉ TRINDADE, RUA ISABELA MOREIRA  "
      ]
     },
     "metadata": {},
     "output_type": "display_data"
    }
   ],
   "source": [
    "bairros_fortaleza = PathDataSets.bairro\n",
    "bairros = pd.read_csv(bairros_fortaleza, encoding = \"Windows-1252\", sep = \";\")\n",
    "pd.set_option('max_colwidth',None)\n",
    "display(bairros)"
   ]
  },
  {
   "cell_type": "code",
   "execution_count": 47,
   "id": "8da10485",
   "metadata": {},
   "outputs": [
    {
     "name": "stdout",
     "output_type": "stream",
     "text": [
      "bairro conjunto_palmeiras\n",
      "qual a última rua da lista? EM UPPER  RUA ISABELA MOREIRA\n"
     ]
    }
   ],
   "source": [
    "bairro_selecionado = input(\"bairro \")\n",
    "ultima_rua = input(\"qual a última rua da lista? EM UPPER  \")"
   ]
  },
  {
   "cell_type": "code",
   "execution_count": 94,
   "id": "279221df",
   "metadata": {},
   "outputs": [],
   "source": [
    "logradouros = bairros[bairros['bairro'] == bairro_selecionado]['logradouros_t']\n",
    "logradouros = str(logradouros)\n",
    "listLogradouros = logradouros.split(\", \")"
   ]
  },
  {
   "cell_type": "code",
   "execution_count": 96,
   "id": "3747307a",
   "metadata": {},
   "outputs": [],
   "source": [
    "nome = \"|\".join(listLogradouros)\n",
    "codigos = censo91[\"listLogradouros\"] = censo91.V11.str.contains(nome)\n",
    "codigos = censo91.query(\"listLogradouros == True\")"
   ]
  },
  {
   "cell_type": "code",
   "execution_count": 99,
   "id": "00147482",
   "metadata": {},
   "outputs": [],
   "source": [
    "setores = pd.DataFrame(codigos)"
   ]
  },
  {
   "cell_type": "code",
   "execution_count": 123,
   "id": "3ba42880",
   "metadata": {},
   "outputs": [],
   "source": [
    "V6 = setores['V6'].unique()\n",
    "V6 = str(V6)"
   ]
  },
  {
   "cell_type": "code",
   "execution_count": 124,
   "id": "23797864",
   "metadata": {},
   "outputs": [],
   "source": [
    "bairros['V6'] = V6"
   ]
  },
  {
   "cell_type": "code",
   "execution_count": 125,
   "id": "0c3c6e80",
   "metadata": {},
   "outputs": [
    {
     "name": "stdout",
     "output_type": "stream",
     "text": [
      "<StringArray>\n",
      "['134', '135', '171', '172', '173', '174', '175', '181', '182', '187', '188', '190', '191', '193', '194', '195', '196', '197']\n",
      "Length: 18, dtype: string\n"
     ]
    }
   ],
   "source": [
    "V7 = setores['V7'].unique()\n",
    "V7 = str(V7)\n",
    "print(V7)"
   ]
  },
  {
   "cell_type": "code",
   "execution_count": 126,
   "id": "44a80fd4",
   "metadata": {},
   "outputs": [
    {
     "data": {
      "text/html": [
       "<div>\n",
       "<style scoped>\n",
       "    .dataframe tbody tr th:only-of-type {\n",
       "        vertical-align: middle;\n",
       "    }\n",
       "\n",
       "    .dataframe tbody tr th {\n",
       "        vertical-align: top;\n",
       "    }\n",
       "\n",
       "    .dataframe thead th {\n",
       "        text-align: right;\n",
       "    }\n",
       "</style>\n",
       "<table border=\"1\" class=\"dataframe\">\n",
       "  <thead>\n",
       "    <tr style=\"text-align: right;\">\n",
       "      <th></th>\n",
       "      <th>bairro</th>\n",
       "      <th>logradouro</th>\n",
       "      <th>logradouros_t</th>\n",
       "      <th>V6</th>\n",
       "      <th>V7</th>\n",
       "    </tr>\n",
       "  </thead>\n",
       "  <tbody>\n",
       "    <tr>\n",
       "      <th>0</th>\n",
       "      <td>conjunto_palmeiras</td>\n",
       "      <td>Rua Castro Alves, Rua Silvinha Téles, Rua Sidney Mesquita, Rua Iracema, Travessa Nova, Rua Edilson Candéa, Travessa Iracema, Rua Dalton Melo, Rua José Linhares, Rua Franklin Távora, Travessa José Linhares, Rua Amadeu Bueno, Rua Campo Verde, Avenida Castelo de Castro, Avenida Castelo de Castro, Rua Canguru, Travessa Canguru, Travessa Sara Saraiva Rocha, Rua Dourado, Rua Fernão Dias, Rua Doutor Codes Sandoval, Rua Olavo Bilac, Rua Maguari, Rua Rui Barbosa, Rua Babaçu, Rua Edmilson Nogueira, Rua Saquarema, Rua Raquel de Queiroz, Rua Avaré, Rua Carneiro Alves, Rua Modesta, Travessa Gurupi, Rua Antônio Ivan, Rua Diadema, Rua Missionário Sílvio, Rua Salmão, Rua São Pedro, Avenida Central, Rua Zé do Crato, Rua do Pensamento, Rua Alves Maia, Rua Serra Azul, Rua Elza Pereira, Rua Alcides Gerardi, Rua Osvaldo Cruz, Rua Evaldo Braga, Rua Álvaro Dias, Rua Dalva de Oliveira, Rua Primeiro de Janeiro, Rua Ângela Diniz, Rua Trinta de Dezembro, Rua Oscarito, Rua José dos Reis, Rua Maiza, Travessa Maiza, Rua Ternura, Rua São Francisco, Rua Cantareira, Rua São Luís, Rua São Raimundo, Rua Chico Mendes, Travessa São Raimundo, Rua São Sebastião, Rua Coqueiro, Rua Benedito Alves, Rua Santo Antônio, Rua Marquês de Sapucaí, Travessa Samia, Rua Ismael Silva, Travessa Eudes França, Travessa Ismael Silva, Rua da Consolação, Rua Olímpio Ribeiro, Rua Santos Dias, Rua Campinense, Rua Margarida Alves, Rua Caxambu, Rua Nossa Senhora da Conceição, Travessa Espirito Santo, Rua Santa Rosa, Vila Santa Rosa, Travessa do Canal, Rua da Alegria, Vila do Real, Rua Santa Helena, Rua Água da Prata, Rua Catolé, Rua Cabo Verde, Rua Codó, Travessa Jorge Veira, Rua Valparaíso, Rua Tereza Bernardes, Rua Cantinho Verde, Rua Mário Biank, Rua Itaguatinga, Travessa Jaborandi, Rua Nossa Senhora do Consolo, Rua Luz Celeste, Rua Santa Rosa do Palmeira, Rua Santa Rita do Palmeira, Rua São José do Palmeira, Rua Santa Lúcia do Palmeira, Rua Zé Trindade, Rua Isabela Moreira</td>\n",
       "      <td>RUA CASTRO ALVES, RUA SILVINHA TÉLES, RUA SIDNEY MESQUITA, RUA IRACEMA, TRAVESSA NOVA, RUA EDILSON CANDÉA, TRAVESSA IRACEMA, RUA DALTON MELO, RUA JOSÉ LINHARES, RUA FRANKLIN TÁVORA, TRAVESSA JOSÉ LINHARES, RUA AMADEU BUENO, RUA CAMPO VERDE, AVENIDA CASTELO DE CASTRO, AVENIDA CASTELO DE CASTRO, RUA CANGURU, TRAVESSA CANGURU, TRAVESSA SARA SARAIVA ROCHA, RUA DOURADO, RUA FERNÃO DIAS, RUA DOUTOR CODES SANDOVAL, RUA OLAVO BILAC, RUA MAGUARI, RUA RUI BARBOSA, RUA BABAÇU, RUA EDMILSON NOGUEIRA, RUA SAQUAREMA, RUA RAQUEL DE QUEIROZ, RUA AVARÉ, RUA CARNEIRO ALVES, RUA MODESTA, TRAVESSA GURUPI, RUA ANTÔNIO IVAN, RUA DIADEMA, RUA MISSIONÁRIO SÍLVIO, RUA SALMÃO, RUA SÃO PEDRO, AVENIDA CENTRAL, RUA ZÉ DO CRATO, RUA DO PENSAMENTO, RUA ALVES MAIA, RUA SERRA AZUL, RUA ELZA PEREIRA, RUA ALCIDES GERARDI, RUA OSVALDO CRUZ, RUA EVALDO BRAGA, RUA ÁLVARO DIAS, RUA DALVA DE OLIVEIRA, RUA PRIMEIRO DE JANEIRO, RUA ÂNGELA DINIZ, RUA TRINTA DE DEZEMBRO, RUA OSCARITO, RUA JOSÉ DOS REIS, RUA MAIZA, TRAVESSA MAIZA, RUA TERNURA, RUA SÃO FRANCISCO, RUA CANTAREIRA, RUA SÃO LUÍS, RUA SÃO RAIMUNDO, RUA CHICO MENDES, TRAVESSA SÃO RAIMUNDO, RUA SÃO SEBASTIÃO, RUA COQUEIRO, RUA BENEDITO ALVES, RUA SANTO ANTÔNIO, RUA MARQUÊS DE SAPUCAÍ, TRAVESSA SAMIA, RUA ISMAEL SILVA, TRAVESSA EUDES FRANÇA, TRAVESSA ISMAEL SILVA, RUA DA CONSOLAÇÃO, RUA OLÍMPIO RIBEIRO, RUA SANTOS DIAS, RUA CAMPINENSE, RUA MARGARIDA ALVES, RUA CAXAMBU, RUA NOSSA SENHORA DA CONCEIÇÃO, TRAVESSA ESPIRITO SANTO, RUA SANTA ROSA, VILA SANTA ROSA, TRAVESSA DO CANAL, RUA DA ALEGRIA, VILA DO REAL, RUA SANTA HELENA, RUA ÁGUA DA PRATA, RUA CATOLÉ, RUA CABO VERDE, RUA CODÓ, TRAVESSA JORGE VEIRA, RUA VALPARAÍSO, RUA TEREZA BERNARDES, RUA CANTINHO VERDE, RUA MÁRIO BIANK, RUA ITAGUATINGA, TRAVESSA JABORANDI, RUA NOSSA SENHORA DO CONSOLO, RUA LUZ CELESTE, RUA SANTA ROSA DO PALMEIRA, RUA SANTA RITA DO PALMEIRA, RUA SÃO JOSÉ DO PALMEIRA, RUA SANTA LÚCIA DO PALMEIRA, RUA ZÉ TRINDADE, RUA ISABELA MOREIRA</td>\n",
       "      <td>['11']</td>\n",
       "      <td>&lt;StringArray&gt;\\n['134', '135', '171', '172', '173', '174', '175', '181', '182', '187', '188', '190', '191', '193', '194', '195', '196', '197']\\nLength: 18, dtype: string</td>\n",
       "    </tr>\n",
       "  </tbody>\n",
       "</table>\n",
       "</div>"
      ],
      "text/plain": [
       "               bairro  \\\n",
       "0  conjunto_palmeiras   \n",
       "\n",
       "                                                                                                                                                                                                                                                                                                                                                                                                                                                                                                                                                                                                                                                                                                                                                                                                                                                                                                                                                                                                                                                                                                                                                                                                                                                                                                                                                                                                                                                                                                                                                                                                                                                                                                                                                                                                                                                                                                                                                                                                                     logradouro  \\\n",
       "0  Rua Castro Alves, Rua Silvinha Téles, Rua Sidney Mesquita, Rua Iracema, Travessa Nova, Rua Edilson Candéa, Travessa Iracema, Rua Dalton Melo, Rua José Linhares, Rua Franklin Távora, Travessa José Linhares, Rua Amadeu Bueno, Rua Campo Verde, Avenida Castelo de Castro, Avenida Castelo de Castro, Rua Canguru, Travessa Canguru, Travessa Sara Saraiva Rocha, Rua Dourado, Rua Fernão Dias, Rua Doutor Codes Sandoval, Rua Olavo Bilac, Rua Maguari, Rua Rui Barbosa, Rua Babaçu, Rua Edmilson Nogueira, Rua Saquarema, Rua Raquel de Queiroz, Rua Avaré, Rua Carneiro Alves, Rua Modesta, Travessa Gurupi, Rua Antônio Ivan, Rua Diadema, Rua Missionário Sílvio, Rua Salmão, Rua São Pedro, Avenida Central, Rua Zé do Crato, Rua do Pensamento, Rua Alves Maia, Rua Serra Azul, Rua Elza Pereira, Rua Alcides Gerardi, Rua Osvaldo Cruz, Rua Evaldo Braga, Rua Álvaro Dias, Rua Dalva de Oliveira, Rua Primeiro de Janeiro, Rua Ângela Diniz, Rua Trinta de Dezembro, Rua Oscarito, Rua José dos Reis, Rua Maiza, Travessa Maiza, Rua Ternura, Rua São Francisco, Rua Cantareira, Rua São Luís, Rua São Raimundo, Rua Chico Mendes, Travessa São Raimundo, Rua São Sebastião, Rua Coqueiro, Rua Benedito Alves, Rua Santo Antônio, Rua Marquês de Sapucaí, Travessa Samia, Rua Ismael Silva, Travessa Eudes França, Travessa Ismael Silva, Rua da Consolação, Rua Olímpio Ribeiro, Rua Santos Dias, Rua Campinense, Rua Margarida Alves, Rua Caxambu, Rua Nossa Senhora da Conceição, Travessa Espirito Santo, Rua Santa Rosa, Vila Santa Rosa, Travessa do Canal, Rua da Alegria, Vila do Real, Rua Santa Helena, Rua Água da Prata, Rua Catolé, Rua Cabo Verde, Rua Codó, Travessa Jorge Veira, Rua Valparaíso, Rua Tereza Bernardes, Rua Cantinho Verde, Rua Mário Biank, Rua Itaguatinga, Travessa Jaborandi, Rua Nossa Senhora do Consolo, Rua Luz Celeste, Rua Santa Rosa do Palmeira, Rua Santa Rita do Palmeira, Rua São José do Palmeira, Rua Santa Lúcia do Palmeira, Rua Zé Trindade, Rua Isabela Moreira   \n",
       "\n",
       "                                                                                                                                                                                                                                                                                                                                                                                                                                                                                                                                                                                                                                                                                                                                                                                                                                                                                                                                                                                                                                                                                                                                                                                                                                                                                                                                                                                                                                                                                                                                                                                                                                                                                                                                                                                                                                                                                                                                                                                                                  logradouros_t  \\\n",
       "0  RUA CASTRO ALVES, RUA SILVINHA TÉLES, RUA SIDNEY MESQUITA, RUA IRACEMA, TRAVESSA NOVA, RUA EDILSON CANDÉA, TRAVESSA IRACEMA, RUA DALTON MELO, RUA JOSÉ LINHARES, RUA FRANKLIN TÁVORA, TRAVESSA JOSÉ LINHARES, RUA AMADEU BUENO, RUA CAMPO VERDE, AVENIDA CASTELO DE CASTRO, AVENIDA CASTELO DE CASTRO, RUA CANGURU, TRAVESSA CANGURU, TRAVESSA SARA SARAIVA ROCHA, RUA DOURADO, RUA FERNÃO DIAS, RUA DOUTOR CODES SANDOVAL, RUA OLAVO BILAC, RUA MAGUARI, RUA RUI BARBOSA, RUA BABAÇU, RUA EDMILSON NOGUEIRA, RUA SAQUAREMA, RUA RAQUEL DE QUEIROZ, RUA AVARÉ, RUA CARNEIRO ALVES, RUA MODESTA, TRAVESSA GURUPI, RUA ANTÔNIO IVAN, RUA DIADEMA, RUA MISSIONÁRIO SÍLVIO, RUA SALMÃO, RUA SÃO PEDRO, AVENIDA CENTRAL, RUA ZÉ DO CRATO, RUA DO PENSAMENTO, RUA ALVES MAIA, RUA SERRA AZUL, RUA ELZA PEREIRA, RUA ALCIDES GERARDI, RUA OSVALDO CRUZ, RUA EVALDO BRAGA, RUA ÁLVARO DIAS, RUA DALVA DE OLIVEIRA, RUA PRIMEIRO DE JANEIRO, RUA ÂNGELA DINIZ, RUA TRINTA DE DEZEMBRO, RUA OSCARITO, RUA JOSÉ DOS REIS, RUA MAIZA, TRAVESSA MAIZA, RUA TERNURA, RUA SÃO FRANCISCO, RUA CANTAREIRA, RUA SÃO LUÍS, RUA SÃO RAIMUNDO, RUA CHICO MENDES, TRAVESSA SÃO RAIMUNDO, RUA SÃO SEBASTIÃO, RUA COQUEIRO, RUA BENEDITO ALVES, RUA SANTO ANTÔNIO, RUA MARQUÊS DE SAPUCAÍ, TRAVESSA SAMIA, RUA ISMAEL SILVA, TRAVESSA EUDES FRANÇA, TRAVESSA ISMAEL SILVA, RUA DA CONSOLAÇÃO, RUA OLÍMPIO RIBEIRO, RUA SANTOS DIAS, RUA CAMPINENSE, RUA MARGARIDA ALVES, RUA CAXAMBU, RUA NOSSA SENHORA DA CONCEIÇÃO, TRAVESSA ESPIRITO SANTO, RUA SANTA ROSA, VILA SANTA ROSA, TRAVESSA DO CANAL, RUA DA ALEGRIA, VILA DO REAL, RUA SANTA HELENA, RUA ÁGUA DA PRATA, RUA CATOLÉ, RUA CABO VERDE, RUA CODÓ, TRAVESSA JORGE VEIRA, RUA VALPARAÍSO, RUA TEREZA BERNARDES, RUA CANTINHO VERDE, RUA MÁRIO BIANK, RUA ITAGUATINGA, TRAVESSA JABORANDI, RUA NOSSA SENHORA DO CONSOLO, RUA LUZ CELESTE, RUA SANTA ROSA DO PALMEIRA, RUA SANTA RITA DO PALMEIRA, RUA SÃO JOSÉ DO PALMEIRA, RUA SANTA LÚCIA DO PALMEIRA, RUA ZÉ TRINDADE, RUA ISABELA MOREIRA   \n",
       "\n",
       "       V6                                                                                                                                                                        V7  \n",
       "0  ['11']  <StringArray>\\n['134', '135', '171', '172', '173', '174', '175', '181', '182', '187', '188', '190', '191', '193', '194', '195', '196', '197']\\nLength: 18, dtype: string  "
      ]
     },
     "metadata": {},
     "output_type": "display_data"
    }
   ],
   "source": [
    "bairros['V7'] = V7\n",
    "display(bairros)"
   ]
  },
  {
   "cell_type": "code",
   "execution_count": null,
   "id": "f0c63d49",
   "metadata": {},
   "outputs": [],
   "source": []
  }
 ],
 "metadata": {
  "kernelspec": {
   "display_name": "Python 3 (ipykernel)",
   "language": "python",
   "name": "python3"
  },
  "language_info": {
   "codemirror_mode": {
    "name": "ipython",
    "version": 3
   },
   "file_extension": ".py",
   "mimetype": "text/x-python",
   "name": "python",
   "nbconvert_exporter": "python",
   "pygments_lexer": "ipython3",
   "version": "3.9.12"
  }
 },
 "nbformat": 4,
 "nbformat_minor": 5
}
