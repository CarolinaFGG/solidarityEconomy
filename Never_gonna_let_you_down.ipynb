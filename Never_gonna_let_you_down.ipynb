{
 "cells": [
  {
   "cell_type": "code",
   "execution_count": 8,
   "id": "52a9f69e",
   "metadata": {},
   "outputs": [],
   "source": [
    "import pandas as pd \n",
    "\n",
    "from simpledbf import Dbf5\n",
    "import chardet\n",
    "\n",
    "class PathDataSets:\n",
    "    url = \"C:/Users/carol/Downloads/solidarityEconomy/dataSets/\"\n",
    "    setores_91 = url + \"setores_ceara_1991/\"\n",
    "    setores_00 = url + \"setores_ceara_2000/\"\n",
    "    setores_10 = url + \"setores_ceara_2010/\"\n",
    "    bairro = url + \"logradouros_ce.csv\"\n",
    "    \n",
    "file = PathDataSets.setores_91 + \"desc_setores_91_messejana_finished.csv\"\n",
    "\n",
    "censo91 = pd.read_csv(file, encoding = \"Windows-1252\", sep = \";\")"
   ]
  },
  {
   "cell_type": "code",
   "execution_count": 9,
   "id": "689fad5d",
   "metadata": {},
   "outputs": [
    {
     "data": {
      "text/html": [
       "<div>\n",
       "<style scoped>\n",
       "    .dataframe tbody tr th:only-of-type {\n",
       "        vertical-align: middle;\n",
       "    }\n",
       "\n",
       "    .dataframe tbody tr th {\n",
       "        vertical-align: top;\n",
       "    }\n",
       "\n",
       "    .dataframe thead th {\n",
       "        text-align: right;\n",
       "    }\n",
       "</style>\n",
       "<table border=\"1\" class=\"dataframe\">\n",
       "  <thead>\n",
       "    <tr style=\"text-align: right;\">\n",
       "      <th></th>\n",
       "      <th>bairro</th>\n",
       "      <th>logradouro</th>\n",
       "      <th>logradouros_t</th>\n",
       "      <th>V6</th>\n",
       "      <th>V7</th>\n",
       "    </tr>\n",
       "  </thead>\n",
       "  <tbody>\n",
       "    <tr>\n",
       "      <th>0</th>\n",
       "      <td>conjunto_palmeiras</td>\n",
       "      <td>Avenida Central,Avenida Deputado Castelo de Castro ,Rua Água da Prata,Rua Alcides Gerardi,Rua Álvaro Dias,Rua Alves Maia,Rua Amadeu Bueno,Rua Ângela Diniz,Rua Antônio Ivan,Rua Avaré,Rua Babaçu,Rua Benedito Alves,Rua Cabo Verde,Rua Campinense,Rua Campo Verde,Rua Canguru,Rua Cantareira,Rua Cantinho Verde,Rua Carneiro Alves,Rua Castro Alves,Rua Catolé,Rua Caxambu,Rua Chico Mendes,Rua Codó,Rua Coqueiro,Rua da Alegria,Rua da Consolação,Rua Dalton Melo,Rua Dalva de Oliveira,Rua Diadema,Rua do Pensamento,Rua Dourado,Rua Doutor Codes Sandoval,Rua Edilson Candéa,Rua Edmilson Nogueira,Rua Elza Pereira,Rua Evaldo Braga,Rua Fernão Dias,Rua Franklin Távora,Rua Iracema,Rua Isabela Moreira,Rua Ismael Silva,Rua Itaguatinga,Rua José dos Reis,Rua José Linhares,Rua Luz Celeste,Rua Maguari,Rua Maiza,Rua Margarida Alves,Rua Mário Biank,Rua Marquês de Sapucaí,Rua Missionário Sílvio,Rua Modesta,Rua Nossa Senhora da Conceição,Rua Nossa Senhora do Consolo,Rua Olavo Bilac,Rua Olímpio Ribeiro,Rua Oscarito,Rua Osvaldo Cruz,Rua Primeiro de Janeiro,Rua Raquel de Queiroz,Rua Rui Barbosa,Rua Salmão,Rua Santa Helena,Rua Santa Lúcia do Palmeira,Rua Santa Rita do Palmeira,Rua Santa Rosa do Palmeira,Rua Santo Antônio,Rua Santos Dias,Rua São Francisco,Rua São José do Palmeira,Rua São Luís,Rua São Pedro,Rua São Raimundo,Rua São Sebastião,Rua Saquarema,Rua Serra Azul,Rua Sidney Mesquita,Rua Silvinha Téles,Rua Tereza Bernardes,Rua Ternura,Rua Trinta de Dezembro,Rua Valparaíso,Rua Zé do Crato,Rua Zé Trindade,Travessa Canguru,Travessa do Canal,Travessa Espirito Santo,Travessa Eudes França,Travessa Iracema,Travessa Ismael Silva,Travessa Jaborandi,Travessa Jorge Veira,Travessa José Linhares,Travessa Maiza,Travessa Nova,Travessa Samia,Travessa São Raimundo,Travessa Sara Saraiva Rocha,Vila do Real</td>\n",
       "      <td>AVENIDA CENTRAL,AVENIDA DEPUTADO CASTELO DE CASTRO ,RUA ÁGUA DA PRATA,RUA ALCIDES GERARDI,RUA ÁLVARO DIAS,RUA ALVES MAIA,RUA AMADEU BUENO,RUA ÂNGELA DINIZ,RUA ANTÔNIO IVAN,RUA AVARÉ,RUA BABAÇU,RUA BENEDITO ALVES,RUA CABO VERDE,RUA CAMPINENSE,RUA CAMPO VERDE,RUA CANGURU,RUA CANTAREIRA,RUA CANTINHO VERDE,RUA CARNEIRO ALVES,RUA CASTRO ALVES,RUA CATOLÉ,RUA CAXAMBU,RUA CHICO MENDES,RUA CODÓ,RUA COQUEIRO,RUA DA ALEGRIA,RUA DA CONSOLAÇÃO,RUA DALTON MELO,RUA DALVA DE OLIVEIRA,RUA DIADEMA,RUA DO PENSAMENTO,RUA DOURADO,RUA DOUTOR CODES SANDOVAL,RUA EDILSON CANDÉA,RUA EDMILSON NOGUEIRA,RUA ELZA PEREIRA,RUA EVALDO BRAGA,RUA FERNÃO DIAS,RUA FRANKLIN TÁVORA,RUA IRACEMA,RUA ISABELA MOREIRA,RUA ISMAEL SILVA,RUA ITAGUATINGA,RUA JOSÉ DOS REIS,RUA JOSÉ LINHARES,RUA LUZ CELESTE,RUA MAGUARI,RUA MAIZA,RUA MARGARIDA ALVES,RUA MÁRIO BIANK,RUA MARQUÊS DE SAPUCAÍ,RUA MISSIONÁRIO SÍLVIO,RUA MODESTA,RUA NOSSA SENHORA DA CONCEIÇÃO,RUA NOSSA SENHORA DO CONSOLO,RUA OLAVO BILAC,RUA OLÍMPIO RIBEIRO,RUA OSCARITO,RUA OSVALDO CRUZ,RUA PRIMEIRO DE JANEIRO,RUA RAQUEL DE QUEIROZ,RUA RUI BARBOSA,RUA SALMÃO,RUA SANTA HELENA,RUA SANTA LÚCIA DO PALMEIRA,RUA SANTA RITA DO PALMEIRA,RUA SANTA ROSA DO PALMEIRA,RUA SANTO ANTÔNIO,RUA SANTOS DIAS,RUA SÃO FRANCISCO,RUA SÃO JOSÉ DO PALMEIRA,RUA SÃO LUÍS,RUA SÃO PEDRO,RUA SÃO RAIMUNDO,RUA SÃO SEBASTIÃO,RUA SAQUAREMA,RUA SERRA AZUL,RUA SIDNEY MESQUITA,RUA SILVINHA TÉLES,RUA TEREZA BERNARDES,RUA TERNURA,RUA TRINTA DE DEZEMBRO,RUA VALPARAÍSO,RUA ZÉ DO CRATO,RUA ZÉ TRINDADE,TRAVESSA CANGURU,TRAVESSA DO CANAL,TRAVESSA ESPIRITO SANTO,TRAVESSA EUDES FRANÇA,TRAVESSA IRACEMA,TRAVESSA ISMAEL SILVA,TRAVESSA JABORANDI,TRAVESSA JORGE VEIRA,TRAVESSA JOSÉ LINHARES,TRAVESSA MAIZA,TRAVESSA NOVA,TRAVESSA SAMIA,TRAVESSA SÃO RAIMUNDO,TRAVESSA SARA SARAIVA ROCHA,VILA DO REAL</td>\n",
       "      <td>NaN</td>\n",
       "      <td>NaN</td>\n",
       "    </tr>\n",
       "  </tbody>\n",
       "</table>\n",
       "</div>"
      ],
      "text/plain": [
       "               bairro  \\\n",
       "0  conjunto_palmeiras   \n",
       "\n",
       "                                                                                                                                                                                                                                                                                                                                                                                                                                                                                                                                                                                                                                                                                                                                                                                                                                                                                                                                                                                                                                                                                                                                                                                                                                                                                                                                                                                                                                                                                                                                                                                                                                                                                                                                                                                                                                               logradouro  \\\n",
       "0  Avenida Central,Avenida Deputado Castelo de Castro ,Rua Água da Prata,Rua Alcides Gerardi,Rua Álvaro Dias,Rua Alves Maia,Rua Amadeu Bueno,Rua Ângela Diniz,Rua Antônio Ivan,Rua Avaré,Rua Babaçu,Rua Benedito Alves,Rua Cabo Verde,Rua Campinense,Rua Campo Verde,Rua Canguru,Rua Cantareira,Rua Cantinho Verde,Rua Carneiro Alves,Rua Castro Alves,Rua Catolé,Rua Caxambu,Rua Chico Mendes,Rua Codó,Rua Coqueiro,Rua da Alegria,Rua da Consolação,Rua Dalton Melo,Rua Dalva de Oliveira,Rua Diadema,Rua do Pensamento,Rua Dourado,Rua Doutor Codes Sandoval,Rua Edilson Candéa,Rua Edmilson Nogueira,Rua Elza Pereira,Rua Evaldo Braga,Rua Fernão Dias,Rua Franklin Távora,Rua Iracema,Rua Isabela Moreira,Rua Ismael Silva,Rua Itaguatinga,Rua José dos Reis,Rua José Linhares,Rua Luz Celeste,Rua Maguari,Rua Maiza,Rua Margarida Alves,Rua Mário Biank,Rua Marquês de Sapucaí,Rua Missionário Sílvio,Rua Modesta,Rua Nossa Senhora da Conceição,Rua Nossa Senhora do Consolo,Rua Olavo Bilac,Rua Olímpio Ribeiro,Rua Oscarito,Rua Osvaldo Cruz,Rua Primeiro de Janeiro,Rua Raquel de Queiroz,Rua Rui Barbosa,Rua Salmão,Rua Santa Helena,Rua Santa Lúcia do Palmeira,Rua Santa Rita do Palmeira,Rua Santa Rosa do Palmeira,Rua Santo Antônio,Rua Santos Dias,Rua São Francisco,Rua São José do Palmeira,Rua São Luís,Rua São Pedro,Rua São Raimundo,Rua São Sebastião,Rua Saquarema,Rua Serra Azul,Rua Sidney Mesquita,Rua Silvinha Téles,Rua Tereza Bernardes,Rua Ternura,Rua Trinta de Dezembro,Rua Valparaíso,Rua Zé do Crato,Rua Zé Trindade,Travessa Canguru,Travessa do Canal,Travessa Espirito Santo,Travessa Eudes França,Travessa Iracema,Travessa Ismael Silva,Travessa Jaborandi,Travessa Jorge Veira,Travessa José Linhares,Travessa Maiza,Travessa Nova,Travessa Samia,Travessa São Raimundo,Travessa Sara Saraiva Rocha,Vila do Real   \n",
       "\n",
       "                                                                                                                                                                                                                                                                                                                                                                                                                                                                                                                                                                                                                                                                                                                                                                                                                                                                                                                                                                                                                                                                                                                                                                                                                                                                                                                                                                                                                                                                                                                                                                                                                                                                                                                                                                                                                                            logradouros_t  \\\n",
       "0  AVENIDA CENTRAL,AVENIDA DEPUTADO CASTELO DE CASTRO ,RUA ÁGUA DA PRATA,RUA ALCIDES GERARDI,RUA ÁLVARO DIAS,RUA ALVES MAIA,RUA AMADEU BUENO,RUA ÂNGELA DINIZ,RUA ANTÔNIO IVAN,RUA AVARÉ,RUA BABAÇU,RUA BENEDITO ALVES,RUA CABO VERDE,RUA CAMPINENSE,RUA CAMPO VERDE,RUA CANGURU,RUA CANTAREIRA,RUA CANTINHO VERDE,RUA CARNEIRO ALVES,RUA CASTRO ALVES,RUA CATOLÉ,RUA CAXAMBU,RUA CHICO MENDES,RUA CODÓ,RUA COQUEIRO,RUA DA ALEGRIA,RUA DA CONSOLAÇÃO,RUA DALTON MELO,RUA DALVA DE OLIVEIRA,RUA DIADEMA,RUA DO PENSAMENTO,RUA DOURADO,RUA DOUTOR CODES SANDOVAL,RUA EDILSON CANDÉA,RUA EDMILSON NOGUEIRA,RUA ELZA PEREIRA,RUA EVALDO BRAGA,RUA FERNÃO DIAS,RUA FRANKLIN TÁVORA,RUA IRACEMA,RUA ISABELA MOREIRA,RUA ISMAEL SILVA,RUA ITAGUATINGA,RUA JOSÉ DOS REIS,RUA JOSÉ LINHARES,RUA LUZ CELESTE,RUA MAGUARI,RUA MAIZA,RUA MARGARIDA ALVES,RUA MÁRIO BIANK,RUA MARQUÊS DE SAPUCAÍ,RUA MISSIONÁRIO SÍLVIO,RUA MODESTA,RUA NOSSA SENHORA DA CONCEIÇÃO,RUA NOSSA SENHORA DO CONSOLO,RUA OLAVO BILAC,RUA OLÍMPIO RIBEIRO,RUA OSCARITO,RUA OSVALDO CRUZ,RUA PRIMEIRO DE JANEIRO,RUA RAQUEL DE QUEIROZ,RUA RUI BARBOSA,RUA SALMÃO,RUA SANTA HELENA,RUA SANTA LÚCIA DO PALMEIRA,RUA SANTA RITA DO PALMEIRA,RUA SANTA ROSA DO PALMEIRA,RUA SANTO ANTÔNIO,RUA SANTOS DIAS,RUA SÃO FRANCISCO,RUA SÃO JOSÉ DO PALMEIRA,RUA SÃO LUÍS,RUA SÃO PEDRO,RUA SÃO RAIMUNDO,RUA SÃO SEBASTIÃO,RUA SAQUAREMA,RUA SERRA AZUL,RUA SIDNEY MESQUITA,RUA SILVINHA TÉLES,RUA TEREZA BERNARDES,RUA TERNURA,RUA TRINTA DE DEZEMBRO,RUA VALPARAÍSO,RUA ZÉ DO CRATO,RUA ZÉ TRINDADE,TRAVESSA CANGURU,TRAVESSA DO CANAL,TRAVESSA ESPIRITO SANTO,TRAVESSA EUDES FRANÇA,TRAVESSA IRACEMA,TRAVESSA ISMAEL SILVA,TRAVESSA JABORANDI,TRAVESSA JORGE VEIRA,TRAVESSA JOSÉ LINHARES,TRAVESSA MAIZA,TRAVESSA NOVA,TRAVESSA SAMIA,TRAVESSA SÃO RAIMUNDO,TRAVESSA SARA SARAIVA ROCHA,VILA DO REAL   \n",
       "\n",
       "   V6  V7  \n",
       "0 NaN NaN  "
      ]
     },
     "metadata": {},
     "output_type": "display_data"
    }
   ],
   "source": [
    "bairros_fortaleza = PathDataSets.bairro\n",
    "bairros = pd.read_csv(bairros_fortaleza, encoding = \"Windows-1252\", sep = \";\")\n",
    "pd.set_option('max_colwidth',None)\n",
    "display(bairros)"
   ]
  },
  {
   "cell_type": "code",
   "execution_count": 10,
   "id": "a2df7a41",
   "metadata": {},
   "outputs": [
    {
     "name": "stdout",
     "output_type": "stream",
     "text": [
      "bairro conjunto palmeiras\n",
      "qual a última rua da lista? EM UPPER  vila do real\n"
     ]
    }
   ],
   "source": [
    "bairro_selecionado = input(\"bairro \")\n",
    "ultima_rua = input(\"qual a última rua da lista? EM UPPER  \")"
   ]
  },
  {
   "cell_type": "code",
   "execution_count": 11,
   "id": "158119e0",
   "metadata": {},
   "outputs": [
    {
     "name": "stdout",
     "output_type": "stream",
     "text": [
      "['Series([]', ' Name: logradouros_t', ' dtype: object)']\n"
     ]
    }
   ],
   "source": [
    "logradouros = bairros[bairros['bairro'] == bairro_selecionado]['logradouros_t']\n",
    "logradouros = str(logradouros)\n",
    "listLogradouros = logradouros.split(\",\")\n",
    "print(listLogradouros)"
   ]
  },
  {
   "cell_type": "code",
   "execution_count": 33,
   "id": "3f0b47fa",
   "metadata": {},
   "outputs": [],
   "source": [
    "nome = \"|\".join(listLogradouros)\n",
    "codigos = censo91[\"listLogradouros\"] = censo91.V11.str.contains(nome)\n",
    "codigos = censo91.query(\"listLogradouros == True\")"
   ]
  },
  {
   "cell_type": "code",
   "execution_count": 34,
   "id": "01a8f5f2",
   "metadata": {},
   "outputs": [],
   "source": [
    "setores = pd.DataFrame(codigos)"
   ]
  },
  {
   "cell_type": "code",
   "execution_count": 35,
   "id": "00d58e48",
   "metadata": {},
   "outputs": [
    {
     "name": "stdout",
     "output_type": "stream",
     "text": [
      "[11]\n"
     ]
    }
   ],
   "source": [
    "V6 = setores['V6'].unique()\n",
    "V6 = str(V6)\n",
    "print(V6)"
   ]
  },
  {
   "cell_type": "code",
   "execution_count": 36,
   "id": "fc35f99d",
   "metadata": {},
   "outputs": [
    {
     "name": "stdout",
     "output_type": "stream",
     "text": [
      "[171 172 173 174 175 181 182 187 188 190 191 193 194 195 196 197]\n"
     ]
    }
   ],
   "source": [
    "V7 = setores['V7'].unique()\n",
    "V7 = str(V7)\n",
    "print(V7)"
   ]
  },
  {
   "cell_type": "code",
   "execution_count": null,
   "id": "b8bd5054",
   "metadata": {},
   "outputs": [],
   "source": []
  }
 ],
 "metadata": {
  "kernelspec": {
   "display_name": "Python 3 (ipykernel)",
   "language": "python",
   "name": "python3"
  },
  "language_info": {
   "codemirror_mode": {
    "name": "ipython",
    "version": 3
   },
   "file_extension": ".py",
   "mimetype": "text/x-python",
   "name": "python",
   "nbconvert_exporter": "python",
   "pygments_lexer": "ipython3",
   "version": "3.9.12"
  }
 },
 "nbformat": 4,
 "nbformat_minor": 5
}
